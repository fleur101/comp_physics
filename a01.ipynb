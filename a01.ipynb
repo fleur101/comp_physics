{
 "cells": [
  {
   "cell_type": "markdown",
   "metadata": {
    "collapsed": true
   },
   "source": [
    "# <center>Assignment 1</center>\n",
    " <center>Gaukhar Dauzhan<center>"
   ]
  },
  {
   "cell_type": "markdown",
   "metadata": {},
   "source": [
    "### Task 1. Numpy arrays. Version 1"
   ]
  },
  {
   "cell_type": "code",
   "execution_count": 6,
   "metadata": {
    "collapsed": false
   },
   "outputs": [
    {
     "name": "stdout",
     "output_type": "stream",
     "text": [
      "Input lengths of the triangle sides\n",
      "x: 3\n",
      "y: 5\n",
      "z: 4\n",
      "Right triangle.\n"
     ]
    }
   ],
   "source": [
    "from numpy import zeros\n",
    "sides = zeros (3, float) #create an array of 3 numbers of type float   \n",
    "print (\"Input lengths of the triangle sides\") \n",
    "sides[0]=float(input(\"x: \")) #ask to input the first element of an array\n",
    "sides[1]=float(input(\"y: \"))\n",
    "sides[2]=float(input(\"z: \"))\n",
    "\n",
    "#Check whether input elements are positive\n",
    "if (sides[0]<=0 or sides[1]<=0 or sides[2]<=0):\n",
    "    print (\"An error occured. Lengths values must be positive\")\n",
    "    \n",
    "#Check whether elements satisfy Pythagorean theorem\n",
    "elif (sides[0]**2 == sides[1]**2 + sides[2]**2) or \\\n",
    "    (sides[1]**2 == sides[0]**2 + sides[2]**2) or \\\n",
    "    (sides[2]**2 == sides[0]**2 + sides[1]**2):\n",
    "    print (\"Right triangle.\")                  \n",
    "else: \n",
    "    print (\"Not right triangle.\")"
   ]
  },
  {
   "cell_type": "markdown",
   "metadata": {},
   "source": [
    "### Task 1. Lists. Version 1"
   ]
  },
  {
   "cell_type": "code",
   "execution_count": 13,
   "metadata": {
    "collapsed": false
   },
   "outputs": [
    {
     "name": "stdout",
     "output_type": "stream",
     "text": [
      "Input lengths of the triangle sides\n",
      "x: -3\n",
      "y: 2\n",
      "z: 1\n",
      "An error occured. Lengths values must be positive\n"
     ]
    }
   ],
   "source": [
    "sides=[]#create an empty list \n",
    "print(\"Input lengths of the triangle sides\")\n",
    "x=float(input(\"x: \"))  #ask to input the first side length                                \n",
    "y=float(input(\"y: \"))\n",
    "z=float(input(\"z: \"))\n",
    "\n",
    "#Check whether input elements are positive\n",
    "if (x<=0 or y<=0 or z<=0):\n",
    "    print (\"An error occured. Lengths values must be positive\")\n",
    "else: #otherwise append them to the list\n",
    "    sides.append(x) \n",
    "    sides.append(y)\n",
    "    sides.append(z)\n",
    "\n",
    "    #Check whether elements satisfy Pythagorean theorem\n",
    "    if (sides[0]**2 == sides[1]**2 + sides[2]**2) or \\\n",
    "       (sides[1]**2 == sides[0]**2 + sides[2]**2) or \\\n",
    "       (sides[2]**2 == sides[0]**2 + sides[1]**2):\n",
    "        print (\"Right triangle.\")\n",
    "    else: \n",
    "        print (\"Not right triangle.\")  \n"
   ]
  },
  {
   "cell_type": "markdown",
   "metadata": {},
   "source": [
    "### Task 1. Numpy arrays. Version 2"
   ]
  },
  {
   "cell_type": "code",
   "execution_count": 17,
   "metadata": {
    "collapsed": false
   },
   "outputs": [
    {
     "name": "stdout",
     "output_type": "stream",
     "text": [
      "Input lengths of the triangle sides\n",
      "x: 3\n",
      "y: -5\n",
      "z: 4\n",
      "An error occured. Lengths values must be positive\n"
     ]
    }
   ],
   "source": [
    "from numpy import zeros, argmax \n",
    "sides = zeros (3, float) #create an array of 3 numbers of type float   \n",
    "print (\"Input lengths of the triangle sides\") #ask to input the first element of an array\n",
    "sides[0]=float(input(\"x: \"))\n",
    "sides[1]=float(input(\"y: \"))\n",
    "sides[2]=float(input(\"z: \"))\n",
    "\n",
    "#Check whether input elements are positive\n",
    "if (sides[0]<=0 or sides[1]<=0 or sides[2]<=0):                       \n",
    "    print (\"An error occured. Lengths values must be positive\")\n",
    "else:\n",
    "    max=argmax(sides) #use function argmax to fine the index of the maximum element\n",
    "    #Check whether sides lengths satisfy Pythagorean theorem given the max element\n",
    "    #max+1 and max+2 are the next two elements. Module keeps their indeces in the range of 3\n",
    "    if sides[max]**2 == sides[(max+1)%3]**2 + sides[(max+2)%3]**2: \n",
    "        print (\"Right triangle.\")\n",
    "    else: \n",
    "        print (\"Not right triangle.\")"
   ]
  },
  {
   "cell_type": "markdown",
   "metadata": {},
   "source": [
    "### Task 1. Lists. Version 2"
   ]
  },
  {
   "cell_type": "code",
   "execution_count": 20,
   "metadata": {
    "collapsed": false
   },
   "outputs": [
    {
     "name": "stdout",
     "output_type": "stream",
     "text": [
      "Input lengths of the triangle sides\n",
      "x: 2.5\n",
      "y: 3.5\n",
      "z: 9.5\n",
      "Not right triangle.\n"
     ]
    }
   ],
   "source": [
    "sides=[] #create empty list \n",
    "print(\"Input lengths of the triangle sides\")\n",
    "x=float(input(\"x: \"))  #ask user to input the first side length\n",
    "sides.append(x)  #add it to the list\n",
    "y=float(input(\"y: \"))\n",
    "sides.append(y)\n",
    "z=float(input(\"z: \"))\n",
    "sides.append(z)\n",
    "#Check whether input elements are positive\n",
    "if (sides[0]<=0 or sides[1]<=0 or sides[2]<=0):\n",
    "    print (\"An error occured. Lengths values must be positive\")\n",
    "else:\n",
    "    max=argmax(sides)   #use function argmax to fine the index of the maximum element\n",
    "    #Check whether sides lengths satisfy Pythagorean theorem given the max element\n",
    "    #max+1 and max+2 are the next two elements. Module keeps their indeces in the range of 3\n",
    "    if sides[max]**2 == sides[(max+1)%3]**2 + sides[(max+2)%3]**2: \n",
    "        print (\"Right triangle.\")\n",
    "    else: \n",
    "        print (\"Not right triangle.\")  "
   ]
  },
  {
   "cell_type": "markdown",
   "metadata": {},
   "source": [
    "### Task 2. Previous day"
   ]
  },
  {
   "cell_type": "code",
   "execution_count": 2,
   "metadata": {
    "collapsed": false
   },
   "outputs": [
    {
     "name": "stdout",
     "output_type": "stream",
     "text": [
      "Input a year 2400\n",
      "Input a month [1-12] 3\n",
      "Input a day [1-31] 1\n",
      "The previous date is  29 - 2 - 2400\n"
     ]
    }
   ],
   "source": [
    "numDays = [31, 28, 31, 30, 31, 30, 31, 31, 30, 31, 30, 31] #array of days in each month (not a leap year)\n",
    "#ask user to input values of year, month and day\n",
    "year = int(input(\"Input a year \"))\n",
    "month = int(input(\"Input a month [1-12] \"))\n",
    "day = int(input (\"Input a day [1-31] \" ))\n",
    "#check whether the given date exists\n",
    "if (day>numDays[month-1] or day<1):\n",
    "    print(\"There is no\", day, \"in this month\")\n",
    "#check whether values are valid\n",
    "elif year<1 or month<1 or month>12:\n",
    "    print (\"Not a valid input\")    \n",
    "else:\n",
    "    if (day==1): #check case when a given day is the first day of a month\n",
    "        if (month==1):  #if the month is January\n",
    "            year-=1; #previous day is 31.12 of the previous year\n",
    "            month=12;\n",
    "        else: \n",
    "            month-=1;  #if it is not January, decrement month by 1\n",
    "        day = numDays[month-1] #assign corresponding number of days \n",
    "        if (year%4==0 and year%100!=0) or  year%400==0: #if it is a leap year\n",
    "            if (month == 2): #and if it is march\n",
    "                day+=1    #the previous day is 2\n",
    "    else:\n",
    "        day-=1 #if it is not the first day of month just decrement day value\n",
    "    print (\"The previous date is \", day, \"-\", month, \"-\",year)"
   ]
  },
  {
   "cell_type": "markdown",
   "metadata": {},
   "source": [
    "### Checking task 2. Previous day. "
   ]
  },
  {
   "cell_type": "code",
   "execution_count": 1,
   "metadata": {
    "collapsed": false
   },
   "outputs": [
    {
     "name": "stdout",
     "output_type": "stream",
     "text": [
      "Year: 2100\n",
      "Month [1-12]: 3\n",
      "Day[1-31]: 1\n",
      "The previous day is  2100-02-28\n"
     ]
    }
   ],
   "source": [
    "from datetime import date, timedelta\n",
    "year = int(input(\"Year: \"))\n",
    "month = int(input(\"Month [1-12]: \"))\n",
    "day = int(input(\"Day[1-31]: \"))\n",
    "dateObject = date(year, month, day) \n",
    "dateObject-= timedelta(1)\n",
    "print (\"The previous day is \", dateObject)"
   ]
  },
  {
   "cell_type": "markdown",
   "metadata": {
    "collapsed": true
   },
   "source": [
    "<font color='red'> In part I, do not repeat the code many times. Write once, but use multiple times. </font>\n",
    "\n",
    "<font color='red'> Good work. </font>\n",
    "<font color='red'> Grade 100%</font>"
   ]
  },
  {
   "cell_type": "code",
   "execution_count": null,
   "metadata": {
    "collapsed": true
   },
   "outputs": [],
   "source": []
  }
 ],
 "metadata": {
  "anaconda-cloud": {},
  "kernelspec": {
   "display_name": "Python [Root]",
   "language": "python",
   "name": "Python [Root]"
  },
  "language_info": {
   "codemirror_mode": {
    "name": "ipython",
    "version": 3
   },
   "file_extension": ".py",
   "mimetype": "text/x-python",
   "name": "python",
   "nbconvert_exporter": "python",
   "pygments_lexer": "ipython3",
   "version": "3.5.2"
  }
 },
 "nbformat": 4,
 "nbformat_minor": 1
}
