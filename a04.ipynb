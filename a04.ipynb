{
 "cells": [
  {
   "cell_type": "markdown",
   "metadata": {},
   "source": [
    "## <center>Assignment 4</center>"
   ]
  },
  {
   "cell_type": "markdown",
   "metadata": {},
   "source": [
    "#### <center>Gaukhar Dauzhan</center>"
   ]
  },
  {
   "cell_type": "markdown",
   "metadata": {},
   "source": [
    "#### We will solve the system of linear equations of form $AX = B$, where A and B are matrices of order 30 × 30 and 30 with constant coefficients using LU decomposition method\n"
   ]
  },
  {
   "cell_type": "code",
   "execution_count": 131,
   "metadata": {
    "collapsed": false
   },
   "outputs": [],
   "source": [
    "import random as rn\n",
    "import numpy as np\n",
    "import matplotlib.pyplot as plt\n",
    "%matplotlib inline"
   ]
  },
  {
   "cell_type": "markdown",
   "metadata": {},
   "source": [
    "#### Random generation of matrices A and B with values of elements in range [0,1]"
   ]
  },
  {
   "cell_type": "code",
   "execution_count": 132,
   "metadata": {
    "collapsed": false
   },
   "outputs": [],
   "source": [
    "n=30\n",
    "x=np.zeros(n,float)\n",
    "b=np.zeros(n,float)\n",
    "a=np.zeros((n,n),float)\n",
    "rn.seed('matrix')\n",
    "for i in range(n):\n",
    "    b[i]=rn.random()\n",
    "    for j in range(n):\n",
    "        a[i,j]=rn.random()"
   ]
  },
  {
   "cell_type": "markdown",
   "metadata": {},
   "source": [
    "#### Solution of the system: LU decomposition method "
   ]
  },
  {
   "cell_type": "code",
   "execution_count": 133,
   "metadata": {
    "collapsed": false
   },
   "outputs": [],
   "source": [
    "def LUdecomposition (a, b):\n",
    "    ac=np.copy(a)\n",
    "    for i in range (n-1):\n",
    "        \n",
    "        imax=i\n",
    "        for k in range (i, n):\n",
    "            if (ac[k][i]>ac[imax][i]):\n",
    "                imax=k\n",
    "\n",
    "        ac[imax], ac[i] = ac[i], np.copy(ac[imax])\n",
    "        a[imax], a[i] = a[i], np.copy(a[imax])\n",
    "        b[imax], b[i] = b[i], np.copy(b[imax])\n",
    "        \n",
    "        for j in range (i+1, n):    \n",
    "            factor = ac[j][i]/ac[i][i]\n",
    "            for k in range (i+1, n):\n",
    "                ac[j][k]-=factor*ac[i][k]\n",
    "            ac[j][i]=factor   \n",
    "    return ac\n",
    "\n",
    "def LUsolution(ac,b):\n",
    "    bc = np.copy(b)\n",
    "    x=np.zeros(n,float)\n",
    "    for k in range (1,n):\n",
    "        sum=0\n",
    "        for m in range (0,k):\n",
    "            sum+=ac[k][m]*bc[m]\n",
    "        bc[k]-=sum\n",
    "    x[n-1]=bc[n-1]/ac[n-1][n-1]\n",
    "    sum=0\n",
    "    for k in range(n-2, -1, -1):\n",
    "        sum=0\n",
    "        for m in range (k+1,n):\n",
    "            sum+=ac[k][m]*x[m]\n",
    "        x[k]=(bc[k]-sum)/ac[k][k]\n",
    "    return x"
   ]
  },
  {
   "cell_type": "code",
   "execution_count": 134,
   "metadata": {
    "collapsed": false
   },
   "outputs": [],
   "source": [
    "ac = LUdecomposition(a, b)"
   ]
  },
  {
   "cell_type": "code",
   "execution_count": 135,
   "metadata": {
    "collapsed": false
   },
   "outputs": [],
   "source": [
    "x=LUsolution(ac,b)"
   ]
  },
  {
   "cell_type": "markdown",
   "metadata": {},
   "source": [
    "#### Substitution of X back to check solution"
   ]
  },
  {
   "cell_type": "markdown",
   "metadata": {},
   "source": [
    "In order to check how precise is the value of b, x can be substituted back and the precision can be calculated as $$\\frac{||\\Delta B||}{||B||}$$"
   ]
  },
  {
   "cell_type": "code",
   "execution_count": 136,
   "metadata": {
    "collapsed": false
   },
   "outputs": [],
   "source": [
    "def norm(a):\n",
    "    return np.sum(np.square(a))**0.5"
   ]
  },
  {
   "cell_type": "code",
   "execution_count": 137,
   "metadata": {
    "collapsed": false
   },
   "outputs": [
    {
     "name": "stdout",
     "output_type": "stream",
     "text": [
      "1.65308809598e-14\n"
     ]
    }
   ],
   "source": [
    "db=np.dot(a,x)-b\n",
    "accuracy=norm(db)/norm(b)\n",
    "print(accuracy)"
   ]
  },
  {
   "cell_type": "markdown",
   "metadata": {},
   "source": [
    "#### Condition number of matrix A. Is system well-conditioned?"
   ]
  },
  {
   "cell_type": "markdown",
   "metadata": {},
   "source": [
    "Condition number of a matrix represents how a small change in input leads to the change in output"
   ]
  },
  {
   "cell_type": "markdown",
   "metadata": {},
   "source": [
    "$$Cond=||A||*||A^{-1}||$$"
   ]
  },
  {
   "cell_type": "code",
   "execution_count": 138,
   "metadata": {
    "collapsed": false
   },
   "outputs": [],
   "source": [
    "def cond(a):\n",
    "    ident = np.identity(n)\n",
    "    ainv=np.zeros((n,n), float)\n",
    "    for i in range (n):\n",
    "        ainv[:, i] = LUsolution(ac, ident[i, :])\n",
    "    return norm(a)*norm(ainv)"
   ]
  },
  {
   "cell_type": "code",
   "execution_count": 139,
   "metadata": {
    "collapsed": false
   },
   "outputs": [
    {
     "data": {
      "text/plain": [
       "871.50546943466441"
      ]
     },
     "execution_count": 139,
     "metadata": {},
     "output_type": "execute_result"
    }
   ],
   "source": [
    "acond=cond(a)\n",
    "acond"
   ]
  },
  {
   "cell_type": "markdown",
   "metadata": {},
   "source": [
    "#### Consistency of accuracy of the solution with the condition number"
   ]
  },
  {
   "cell_type": "markdown",
   "metadata": {},
   "source": [
    "Change in input multiplied by condition number gives us estimated output change. If with this change we get precise enough answer we consider matrix to be well-conditioned. That is, the following equation must be satisfied:"
   ]
  },
  {
   "cell_type": "markdown",
   "metadata": {},
   "source": [
    "$$\\frac{||\\Delta x||}{||x||}\\leq Cond\\frac{||\\Delta A||}{||A||},$$"
   ]
  },
  {
   "cell_type": "code",
   "execution_count": 140,
   "metadata": {
    "collapsed": false
   },
   "outputs": [],
   "source": [
    "def isCons(x):\n",
    "    dx=LUsolution(ac, db)\n",
    "    ex=norm(dx)/norm(x)\n",
    "    ea=1e-16/norm(a)\n",
    "    print(ex)\n",
    "    print(acond*ea)\n",
    "    return ex<=acond*ea"
   ]
  },
  {
   "cell_type": "code",
   "execution_count": 141,
   "metadata": {
    "collapsed": false
   },
   "outputs": [
    {
     "name": "stdout",
     "output_type": "stream",
     "text": [
      "1.43332000835e-13\n",
      "4.96148754732e-15\n",
      "False\n"
     ]
    }
   ],
   "source": [
    "print(isCons(x))"
   ]
  },
  {
   "cell_type": "markdown",
   "metadata": {},
   "source": [
    "In this case the output change is too big. However, iterative refinement can be applied in order to improve quality of the solution"
   ]
  },
  {
   "cell_type": "markdown",
   "metadata": {},
   "source": [
    "#### Iterative refinement of the solution"
   ]
  },
  {
   "cell_type": "code",
   "execution_count": 142,
   "metadata": {
    "collapsed": false
   },
   "outputs": [],
   "source": [
    "def ref(imax):\n",
    "    err = []\n",
    "    x_ref = LUsolution(ac, b)\n",
    "    del_b = b-np.dot(a, x_ref)\n",
    "    del_x=LUsolution(ac, del_b)\n",
    "    err.append(norm(del_x)/norm(x_ref))\n",
    "    j=0\n",
    "    refined=-1\n",
    "    while(j<imax):\n",
    "        if (norm(del_x)/norm(x_ref)<=acond*1e-16/norm(a) and refined==-1):\n",
    "            refined=j;\n",
    "        x_ref = x_ref + del_x\n",
    "        del_b = b - np.dot(a, x_ref)\n",
    "        del_x = LUsolution(ac, del_b)\n",
    "        error = norm(del_x)/norm(x_ref);\n",
    "        err.append(norm(del_x)/norm(x_ref))\n",
    "        j+=1\n",
    "    return err,refined"
   ]
  },
  {
   "cell_type": "code",
   "execution_count": 143,
   "metadata": {
    "collapsed": false
   },
   "outputs": [],
   "source": [
    "err1, refined1 = ref(10)"
   ]
  },
  {
   "cell_type": "markdown",
   "metadata": {},
   "source": [
    "#### Dependency of quality of the solution on the number of iteration"
   ]
  },
  {
   "cell_type": "code",
   "execution_count": 144,
   "metadata": {
    "collapsed": true
   },
   "outputs": [],
   "source": [
    "i=np.arange(11)"
   ]
  },
  {
   "cell_type": "code",
   "execution_count": 145,
   "metadata": {
    "collapsed": false
   },
   "outputs": [
    {
     "data": {
      "image/png": "[encoded data removed]",
      "text/plain": [
       "<matplotlib.figure.Figure at 0x7f11122a4b38>"
      ]
     },
     "metadata": {},
     "output_type": "display_data"
    }
   ],
   "source": [
    "plt.plot(i, err1)\n",
    "plt.xlabel(\"Number of iterations\")\n",
    "plt.ylabel(\"Error\")\n",
    "plt.yscale('log')\n",
    "plt.show()"
   ]
  },
  {
   "cell_type": "markdown",
   "metadata": {
    "collapsed": true
   },
   "source": [
    "Condition number of a matrix initially could not give us desired precision in output, however, iterative refinement allowed to improve the quality of the solution"
   ]
  }
 ],
 "metadata": {
  "anaconda-cloud": {},
  "kernelspec": {
   "display_name": "Python [conda root]",
   "language": "python",
   "name": "conda-root-py"
  },
  "language_info": {
   "codemirror_mode": {
    "name": "ipython",
    "version": 3
   },
   "file_extension": ".py",
   "mimetype": "text/x-python",
   "name": "python",
   "nbconvert_exporter": "python",
   "pygments_lexer": "ipython3",
   "version": "3.5.2"
  }
 },
 "nbformat": 4,
 "nbformat_minor": 1
}
