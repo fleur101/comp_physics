{
 "cells": [
  {
   "cell_type": "markdown",
   "metadata": {},
   "source": [
    "## <center>Assignment 3</center>\n",
    "#### <center>Gaukhar Dauzhan</center>"
   ]
  },
  {
   "cell_type": "code",
   "execution_count": 166,
   "metadata": {
    "collapsed": true
   },
   "outputs": [],
   "source": [
    "import matplotlib.pyplot as plt\n",
    "import numpy as np\n",
    "%matplotlib inline"
   ]
  },
  {
   "cell_type": "markdown",
   "metadata": {
    "collapsed": true
   },
   "source": [
    "Determine the roots of the following simultaneous nonlinear equations\n",
    "$$y = − x^2 + x + 0.75 (1)$$ \n",
    "$$y + 5xy = x^2  (2)$$\n",
    "using (a) fixed-point iteration and (b) the Newton-Raphson method with a precision of $10^{−12}$ ."
   ]
  },
  {
   "cell_type": "markdown",
   "metadata": {},
   "source": [
    "### (a) Fixed-point iteration "
   ]
  },
  {
   "cell_type": "markdown",
   "metadata": {},
   "source": [
    "Reformulate (2) into $$x=\\frac{0.75-y}{x-1} = u(x,y)$$\n",
    "                     $$y= \\frac{x^2}{1 + 5x} = v(x,y)$$"
   ]
  },
  {
   "cell_type": "code",
   "execution_count": 167,
   "metadata": {
    "collapsed": false
   },
   "outputs": [],
   "source": [
    "def u(x,y):\n",
    "    return (0.75-y)/(x-1)\n",
    "def v(x,y):\n",
    "    return x**2/(1+5*x)\n"
   ]
  },
  {
   "cell_type": "markdown",
   "metadata": {},
   "source": [
    "#### Convergence condition"
   ]
  },
  {
   "cell_type": "markdown",
   "metadata": {},
   "source": [
    "$$|\\frac{\\partial u}{\\partial x}|+|\\frac{\\partial u}{\\partial y}|<1  (a) $$\n",
    "$$|\\frac{\\partial v}{\\partial x}|+|\\frac{\\partial v}{\\partial y}|<1  (b) $$"
   ]
  },
  {
   "cell_type": "markdown",
   "metadata": {},
   "source": [
    "Convergent for x<-0.28165 and x>2"
   ]
  },
  {
   "cell_type": "markdown",
   "metadata": {},
   "source": [
    "$$x_{i+1}=u(x_i,y_i)$$\n",
    "$$y_i=v(x_{i+1},y_i)$$"
   ]
  },
  {
   "cell_type": "code",
   "execution_count": 168,
   "metadata": {
    "collapsed": false
   },
   "outputs": [],
   "source": [
    "def fixedPoint(x0, y0, maxIter, err):\n",
    "    ilist=[]\n",
    "    elist=[]\n",
    "    xcurr=x0; ycurr=y0; i=0; e=100;\n",
    "    while i<maxIter and e>err:\n",
    "        xnext=u(xcurr,ycurr)\n",
    "        ynext=v(xnext,ycurr)\n",
    "        if xnext!=0 and ynext!=0:\n",
    "            ex=abs((xnext-xcurr)/xnext)\n",
    "            ey=abs((ynext-ycurr)/ynext)\n",
    "            e=(ex**2+ey**2)**0.5\n",
    "        xcurr=xnext;ycurr=ynext\n",
    "        ilist.append(i)\n",
    "        elist.append(e)\n",
    "        i+=1\n",
    "    return xcurr,ycurr,ilist,elist"
   ]
  },
  {
   "cell_type": "markdown",
   "metadata": {},
   "source": [
    "#### Finding roots using fixed-point iteration: 3 initial guesses"
   ]
  },
  {
   "cell_type": "code",
   "execution_count": 169,
   "metadata": {
    "collapsed": false,
    "scrolled": true
   },
   "outputs": [
    {
     "name": "stdout",
     "output_type": "stream",
     "text": [
      "x1 = -0.5852737964337669 , y1 = -0.17781921322587638\n",
      "number of iterations required to reach the accuracy 10^(-12) = 26\n"
     ]
    }
   ],
   "source": [
    "x1,y1,i1,e1 = fixedPoint(-100, 100, 50, 1e-12)\n",
    "print(\"x1 =\",x1, \", y1 =\",y1)\n",
    "print(\"number of iterations required to reach the accuracy 10^(-12) =\",i1[len(i1)-1])"
   ]
  },
  {
   "cell_type": "code",
   "execution_count": 170,
   "metadata": {
    "collapsed": false
   },
   "outputs": [
    {
     "name": "stdout",
     "output_type": "stream",
     "text": [
      "x2 = -0.5852737964338797 y2 = -0.17781921322589284\n",
      "number of iterations required to reach the accuracy 10^(-12) = 25\n"
     ]
    }
   ],
   "source": [
    "x2,y2,i2,e2 = fixedPoint(-10, 10, 50, 1e-12)\n",
    "print(\"x2 =\",x2, \"y2 =\",y2)\n",
    "print(\"number of iterations required to reach the accuracy 10^(-12) =\",i2[len(i2)-1])"
   ]
  },
  {
   "cell_type": "code",
   "execution_count": 171,
   "metadata": {
    "collapsed": false
   },
   "outputs": [
    {
     "name": "stdout",
     "output_type": "stream",
     "text": [
      "x3 = -0.5852737964338635 y3 = -0.17781921322589045\n",
      "number of iterations required to reach the accuracy 10^(-12) = 23\n"
     ]
    }
   ],
   "source": [
    "x3,y3,i3,e3 = fixedPoint(-1, 0, 50, 1e-12)\n",
    "print(\"x3 =\",x3, \"y3 =\",y3)\n",
    "print(\"number of iterations required to reach the accuracy 10^(-12) =\",i3[len(i3)-1])"
   ]
  },
  {
   "cell_type": "markdown",
   "metadata": {},
   "source": [
    "In this form the equation gives only one pair of roots due to convergence restrictions"
   ]
  },
  {
   "cell_type": "markdown",
   "metadata": {},
   "source": [
    "#### Compute time"
   ]
  },
  {
   "cell_type": "code",
   "execution_count": 172,
   "metadata": {
    "collapsed": false
   },
   "outputs": [
    {
     "name": "stdout",
     "output_type": "stream",
     "text": [
      "1000 loops, best of 3: 181 µs per loop\n"
     ]
    }
   ],
   "source": [
    "timeit fixedPoint(-100, 100, 50, 1e-12)"
   ]
  },
  {
   "cell_type": "code",
   "execution_count": 173,
   "metadata": {
    "collapsed": false
   },
   "outputs": [
    {
     "name": "stdout",
     "output_type": "stream",
     "text": [
      "10000 loops, best of 3: 174 µs per loop\n"
     ]
    }
   ],
   "source": [
    "timeit fixedPoint(-10, 10, 50, 1e-12)"
   ]
  },
  {
   "cell_type": "code",
   "execution_count": 174,
   "metadata": {
    "collapsed": false
   },
   "outputs": [
    {
     "name": "stdout",
     "output_type": "stream",
     "text": [
      "10000 loops, best of 3: 163 µs per loop\n"
     ]
    }
   ],
   "source": [
    "timeit fixedPoint(-1, 0, 50, 1e-12)"
   ]
  },
  {
   "cell_type": "markdown",
   "metadata": {},
   "source": [
    "#### Graph: Dependency of precision on the number of iterations"
   ]
  },
  {
   "cell_type": "code",
   "execution_count": 175,
   "metadata": {
    "collapsed": false
   },
   "outputs": [
    {
     "data": {
      "image/png": "[encoded data removed]",
      "text/plain": [
       "<matplotlib.figure.Figure at 0x7fa53ece1a58>"
      ]
     },
     "metadata": {},
     "output_type": "display_data"
    }
   ],
   "source": [
    "plt.plot(i1,e1)\n",
    "plt.plot(i2,e2)\n",
    "plt.plot(i3,e3)\n",
    "plt.yscale('log')\n",
    "plt.xlabel('Number of iterations')\n",
    "plt.ylabel('Precision')\n",
    "plt.title('Dependency of precision on the number of iterations')\n",
    "plt.show()\n"
   ]
  },
  {
   "cell_type": "markdown",
   "metadata": {},
   "source": [
    "### (b) Newton-Raphson method"
   ]
  },
  {
   "cell_type": "markdown",
   "metadata": {},
   "source": [
    "$$f(x,y)=y+x^2-0.75$$\n",
    "$$g(x,y)=y+5xy-x^2$$\n",
    "$$x_{i+1}=x-\\frac{1}{j(x,y)(f(x,y)gy(x,y)-g(x,y)fy(x,y)}$$\n",
    "$$y_{i+1}=y-\\frac{1}{j(x,y)(g(x,y)fx(x,y)-f(x,y)gx(x,y)}$$"
   ]
  },
  {
   "cell_type": "code",
   "execution_count": 176,
   "metadata": {
    "collapsed": false
   },
   "outputs": [],
   "source": [
    "def f(x,y):\n",
    "    return y+x**2-x-0.75\n",
    "def g(x,y):\n",
    "    return y+ 5*x*y -x**2\n",
    "def fx(x,y):\n",
    "    return 2*x-1\n",
    "def fy(x,y):\n",
    "    return 1.0\n",
    "def gx(x,y):\n",
    "    return 5*y-2*x\n",
    "def gy(x,y):\n",
    "    return 1+5*x\n",
    "def j(x,y):\n",
    "    return fx(x,y)*gy(x,y)-fy(x,y)*gx(x,y)\n",
    "def xnextf(x,y):\n",
    "    return x-1/j(x,y)*(f(x,y)*gy(x,y)-g(x,y)*fy(x,y))\n",
    "def ynextf(x,y):\n",
    "    return y-1/j(x,y)*(g(x,y)*fx(x,y)-f(x,y)*gx(x,y))"
   ]
  },
  {
   "cell_type": "code",
   "execution_count": 177,
   "metadata": {
    "collapsed": true
   },
   "outputs": [],
   "source": [
    "def newRaph(x0,y0, maxIter, err):\n",
    "    iarr=[]\n",
    "    earr=[]\n",
    "    xcurr=x0; ycurr=y0; i=0; e=100\n",
    "    while i<maxIter and e>err:\n",
    "        xnext=xnextf(xcurr,ycurr)\n",
    "        ynext=ynextf(xcurr,ycurr)\n",
    "        if xnext!=0 and ynext!=0:\n",
    "            ex=abs((xnext-xcurr)/xnext)\n",
    "            ey=abs((ynext-ycurr)/ynext)\n",
    "            e=(ex**2+ey**2)*0.5\n",
    "        iarr.append(i)\n",
    "        earr.append(e)\n",
    "        xcurr=xnext;ycurr=ynext;\n",
    "        i+=1;\n",
    "    return xcurr, ycurr, iarr, earr"
   ]
  },
  {
   "cell_type": "markdown",
   "metadata": {},
   "source": [
    "#### Finding roots using fixed-point method: 3 initial guesses"
   ]
  },
  {
   "cell_type": "code",
   "execution_count": 178,
   "metadata": {
    "collapsed": false
   },
   "outputs": [
    {
     "name": "stdout",
     "output_type": "stream",
     "text": [
      "x1 = 1.3720654058273323 , y1 = 0.23950192795921027\n",
      "number of iterations required to reach the accuracy 10^(-12) = 12\n"
     ]
    }
   ],
   "source": [
    "x1,y1,i1,e1 = newRaph(-100, 100, 50, 1e-12)\n",
    "print(\"x1 =\",x1, \", y1 =\",y1)\n",
    "print(\"number of iterations required to reach the accuracy 10^(-12) =\",i1[len(i1)-1])"
   ]
  },
  {
   "cell_type": "code",
   "execution_count": 179,
   "metadata": {
    "collapsed": false
   },
   "outputs": [
    {
     "name": "stdout",
     "output_type": "stream",
     "text": [
      "x2 = -0.18679160939350856 y2 = 0.5283172852666743\n",
      "number of iterations required to reach the accuracy 10^(-12) = 13\n"
     ]
    }
   ],
   "source": [
    "x2,y2,i2,e2 = newRaph(-10, 10, 50, 1e-12)\n",
    "print(\"x2 =\",x2, \"y2 =\",y2)\n",
    "print(\"number of iterations required to reach the accuracy 10^(-12) =\",i2[len(i2)-1])"
   ]
  },
  {
   "cell_type": "code",
   "execution_count": 180,
   "metadata": {
    "collapsed": false
   },
   "outputs": [
    {
     "name": "stdout",
     "output_type": "stream",
     "text": [
      "x3 = -0.5852737964338237 y3 = -0.1778192132258847\n",
      "number of iterations required to reach the accuracy 10^(-12) = 4\n"
     ]
    }
   ],
   "source": [
    "x3,y3,i3,e3=newRaph(-1, 0, 50, 1e-12)\n",
    "print(\"x3 =\",x3, \"y3 =\",y3)\n",
    "print(\"number of iterations required to reach the accuracy 10^(-12) =\",i3[len(i3)-1])"
   ]
  },
  {
   "cell_type": "markdown",
   "metadata": {},
   "source": [
    "#### Compute time"
   ]
  },
  {
   "cell_type": "code",
   "execution_count": 181,
   "metadata": {
    "collapsed": false
   },
   "outputs": [
    {
     "name": "stdout",
     "output_type": "stream",
     "text": [
      "1000 loops, best of 3: 260 µs per loop\n"
     ]
    }
   ],
   "source": [
    "timeit newRaph(-100, 100, 50, 1e-12)"
   ]
  },
  {
   "cell_type": "code",
   "execution_count": 182,
   "metadata": {
    "collapsed": false
   },
   "outputs": [
    {
     "name": "stdout",
     "output_type": "stream",
     "text": [
      "1000 loops, best of 3: 283 µs per loop\n"
     ]
    }
   ],
   "source": [
    "timeit newRaph(-10, 10, 50, 1e-12)"
   ]
  },
  {
   "cell_type": "code",
   "execution_count": 183,
   "metadata": {
    "collapsed": false
   },
   "outputs": [
    {
     "name": "stdout",
     "output_type": "stream",
     "text": [
      "10000 loops, best of 3: 104 µs per loop\n"
     ]
    }
   ],
   "source": [
    "timeit newRaph(-1, 0, 50, 1e-12)"
   ]
  },
  {
   "cell_type": "markdown",
   "metadata": {},
   "source": [
    "#### Graph: Dependency of precision on the number of iterations"
   ]
  },
  {
   "cell_type": "code",
   "execution_count": 184,
   "metadata": {
    "collapsed": false
   },
   "outputs": [
    {
     "data": {
      "image/png": "[encoded data removed]",
      "text/plain": [
       "<matplotlib.figure.Figure at 0x7fa541c0c518>"
      ]
     },
     "metadata": {},
     "output_type": "display_data"
    }
   ],
   "source": [
    "plt.plot(i1,e1)\n",
    "plt.plot(i2,e2)\n",
    "plt.plot(i3,e3)\n",
    "plt.yscale('log')\n",
    "plt.xlabel('Number of iterations')\n",
    "plt.ylabel('Precision')\n",
    "plt.title('Dependency of precision on the number of iterations')\n",
    "plt.show()"
   ]
  },
  {
   "cell_type": "markdown",
   "metadata": {},
   "source": [
    "#### Conclusion"
   ]
  },
  {
   "cell_type": "markdown",
   "metadata": {},
   "source": [
    "The results show that although on average <b>fixed-point iteration</b> takes less time to compute a root in this case, it can find only one root due to convergence conditions, whereas <b>Newton-Raphson method</b> allows to find all three roots depending on the initial guesses."
   ]
  }
 ],
 "metadata": {
  "anaconda-cloud": {},
  "kernelspec": {
   "display_name": "Python [conda root]",
   "language": "python",
   "name": "conda-root-py"
  },
  "language_info": {
   "codemirror_mode": {
    "name": "ipython",
    "version": 3
   },
   "file_extension": ".py",
   "mimetype": "text/x-python",
   "name": "python",
   "nbconvert_exporter": "python",
   "pygments_lexer": "ipython3",
   "version": "3.5.2"
  }
 },
 "nbformat": 4,
 "nbformat_minor": 1
}
